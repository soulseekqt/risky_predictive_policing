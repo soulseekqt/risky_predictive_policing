{
 "cells": [
  {
   "cell_type": "markdown",
   "id": "137e9291-496e-49b2-9108-48833069f8d3",
   "metadata": {},
   "source": [
    "# Consolidated Pre-processing Notebook"
   ]
  },
  {
   "cell_type": "code",
   "execution_count": null,
   "id": "0e157294-7a72-45d9-aa36-d3f4688c8d90",
   "metadata": {},
   "outputs": [],
   "source": [
    "import pandas as pd\n",
    "import numpy as np"
   ]
  },
  {
   "cell_type": "code",
   "execution_count": 77,
   "id": "80790ca4-7226-4a76-9d66-f68f06844ddd",
   "metadata": {},
   "outputs": [
    {
     "name": "stdout",
     "output_type": "stream",
     "text": [
      "<class 'pandas.core.frame.DataFrame'>\n",
      "RangeIndex: 257077 entries, 0 to 257076\n",
      "Data columns (total 17 columns):\n",
      " #   Column                  Non-Null Count   Dtype  \n",
      "---  ------                  --------------   -----  \n",
      " 0   CASE#                   257077 non-null  object \n",
      " 1   DATE  OF OCCURRENCE     257077 non-null  object \n",
      " 2   BLOCK                   257077 non-null  object \n",
      " 3    IUCR                   257077 non-null  object \n",
      " 4    PRIMARY DESCRIPTION    257077 non-null  object \n",
      " 5    SECONDARY DESCRIPTION  257077 non-null  object \n",
      " 6    LOCATION DESCRIPTION   256032 non-null  object \n",
      " 7   ARREST                  257077 non-null  object \n",
      " 8   DOMESTIC                257077 non-null  object \n",
      " 9   BEAT                    257077 non-null  int64  \n",
      " 10  WARD                    257077 non-null  int64  \n",
      " 11  FBI CD                  257077 non-null  object \n",
      " 12  X COORDINATE            257011 non-null  float64\n",
      " 13  Y COORDINATE            257011 non-null  float64\n",
      " 14  LATITUDE                257011 non-null  float64\n",
      " 15  LONGITUDE               257011 non-null  float64\n",
      " 16  LOCATION                257011 non-null  object \n",
      "dtypes: float64(4), int64(2), object(11)\n",
      "memory usage: 33.3+ MB\n"
     ]
    }
   ],
   "source": [
    "#Load dataset from ../raw_data/\n",
    "df = pd.read_csv(\"../raw_data/chicago.csv\")\n",
    "df.info()"
   ]
  },
  {
   "cell_type": "code",
   "execution_count": 78,
   "id": "2f6970a9-f8ae-4578-aeaf-ca41258d14f1",
   "metadata": {},
   "outputs": [
    {
     "data": {
      "text/html": [
       "<div>\n",
       "<style scoped>\n",
       "    .dataframe tbody tr th:only-of-type {\n",
       "        vertical-align: middle;\n",
       "    }\n",
       "\n",
       "    .dataframe tbody tr th {\n",
       "        vertical-align: top;\n",
       "    }\n",
       "\n",
       "    .dataframe thead th {\n",
       "        text-align: right;\n",
       "    }\n",
       "</style>\n",
       "<table border=\"1\" class=\"dataframe\">\n",
       "  <thead>\n",
       "    <tr style=\"text-align: right;\">\n",
       "      <th></th>\n",
       "      <th>CASE#</th>\n",
       "      <th>DATE  OF OCCURRENCE</th>\n",
       "      <th>BLOCK</th>\n",
       "      <th>IUCR</th>\n",
       "      <th>PRIMARY DESCRIPTION</th>\n",
       "      <th>SECONDARY DESCRIPTION</th>\n",
       "      <th>LOCATION DESCRIPTION</th>\n",
       "      <th>ARREST</th>\n",
       "      <th>DOMESTIC</th>\n",
       "      <th>BEAT</th>\n",
       "      <th>WARD</th>\n",
       "      <th>FBI CD</th>\n",
       "      <th>X COORDINATE</th>\n",
       "      <th>Y COORDINATE</th>\n",
       "      <th>LATITUDE</th>\n",
       "      <th>LONGITUDE</th>\n",
       "      <th>LOCATION</th>\n",
       "    </tr>\n",
       "  </thead>\n",
       "  <tbody>\n",
       "    <tr>\n",
       "      <th>0</th>\n",
       "      <td>JH117298</td>\n",
       "      <td>01/16/2024 01:00:00 AM</td>\n",
       "      <td>038XX W DIVERSEY AVE</td>\n",
       "      <td>0810</td>\n",
       "      <td>THEFT</td>\n",
       "      <td>OVER $500</td>\n",
       "      <td>STREET</td>\n",
       "      <td>N</td>\n",
       "      <td>N</td>\n",
       "      <td>2524</td>\n",
       "      <td>35</td>\n",
       "      <td>06</td>\n",
       "      <td>1150337.0</td>\n",
       "      <td>1918345.0</td>\n",
       "      <td>41.931844</td>\n",
       "      <td>-87.722951</td>\n",
       "      <td>(41.931843966, -87.722950868)</td>\n",
       "    </tr>\n",
       "    <tr>\n",
       "      <th>1</th>\n",
       "      <td>JG561057</td>\n",
       "      <td>12/31/2023 04:30:00 PM</td>\n",
       "      <td>004XX N WABASH AVE</td>\n",
       "      <td>0460</td>\n",
       "      <td>BATTERY</td>\n",
       "      <td>SIMPLE</td>\n",
       "      <td>STREET</td>\n",
       "      <td>N</td>\n",
       "      <td>N</td>\n",
       "      <td>1834</td>\n",
       "      <td>42</td>\n",
       "      <td>08B</td>\n",
       "      <td>1176592.0</td>\n",
       "      <td>1902931.0</td>\n",
       "      <td>41.888994</td>\n",
       "      <td>-87.626935</td>\n",
       "      <td>(41.888993854, -87.626934833)</td>\n",
       "    </tr>\n",
       "    <tr>\n",
       "      <th>2</th>\n",
       "      <td>JH117691</td>\n",
       "      <td>01/16/2024 06:50:00 PM</td>\n",
       "      <td>010XX W 99TH ST</td>\n",
       "      <td>143A</td>\n",
       "      <td>WEAPONS VIOLATION</td>\n",
       "      <td>UNLAWFUL POSSESSION - HANDGUN</td>\n",
       "      <td>STREET</td>\n",
       "      <td>Y</td>\n",
       "      <td>N</td>\n",
       "      <td>2232</td>\n",
       "      <td>21</td>\n",
       "      <td>15</td>\n",
       "      <td>1170976.0</td>\n",
       "      <td>1839080.0</td>\n",
       "      <td>41.713905</td>\n",
       "      <td>-87.649425</td>\n",
       "      <td>(41.713904887, -87.649424515)</td>\n",
       "    </tr>\n",
       "  </tbody>\n",
       "</table>\n",
       "</div>"
      ],
      "text/plain": [
       "      CASE#     DATE  OF OCCURRENCE                 BLOCK  IUCR  \\\n",
       "0  JH117298  01/16/2024 01:00:00 AM  038XX W DIVERSEY AVE  0810   \n",
       "1  JG561057  12/31/2023 04:30:00 PM    004XX N WABASH AVE  0460   \n",
       "2  JH117691  01/16/2024 06:50:00 PM       010XX W 99TH ST  143A   \n",
       "\n",
       "   PRIMARY DESCRIPTION          SECONDARY DESCRIPTION  LOCATION DESCRIPTION  \\\n",
       "0                THEFT                      OVER $500                STREET   \n",
       "1              BATTERY                         SIMPLE                STREET   \n",
       "2    WEAPONS VIOLATION  UNLAWFUL POSSESSION - HANDGUN                STREET   \n",
       "\n",
       "  ARREST DOMESTIC  BEAT  WARD FBI CD  X COORDINATE  Y COORDINATE   LATITUDE  \\\n",
       "0      N        N  2524    35     06     1150337.0     1918345.0  41.931844   \n",
       "1      N        N  1834    42    08B     1176592.0     1902931.0  41.888994   \n",
       "2      Y        N  2232    21     15     1170976.0     1839080.0  41.713905   \n",
       "\n",
       "   LONGITUDE                       LOCATION  \n",
       "0 -87.722951  (41.931843966, -87.722950868)  \n",
       "1 -87.626935  (41.888993854, -87.626934833)  \n",
       "2 -87.649425  (41.713904887, -87.649424515)  "
      ]
     },
     "execution_count": 78,
     "metadata": {},
     "output_type": "execute_result"
    }
   ],
   "source": [
    "df.head(3)"
   ]
  },
  {
   "cell_type": "markdown",
   "id": "768cfd3c-1977-4132-b0ef-2757797737db",
   "metadata": {},
   "source": [
    "Raw datset columns has typographical errors. Below code resolves this:"
   ]
  },
  {
   "cell_type": "code",
   "execution_count": 79,
   "id": "ec2efe04-4d52-49b1-b41f-e126f2a518d2",
   "metadata": {},
   "outputs": [
    {
     "name": "stderr",
     "output_type": "stream",
     "text": [
      "/tmp/ipykernel_284468/2776783813.py:5: FutureWarning: DataFrame.applymap has been deprecated. Use DataFrame.map instead.\n",
      "  df = df.applymap(lambda x: x.strip() if isinstance(x, str) else x)\n"
     ]
    }
   ],
   "source": [
    "# Remove leading and trailing spaces from each column name\n",
    "df.columns = df.columns.str.strip()\n",
    "\n",
    "# Apply strip() to each column where the data type is string (object)\n",
    "df = df.applymap(lambda x: x.strip() if isinstance(x, str) else x)\n",
    "\n",
    "# If the column name has multiple spaces (e.g., \"DATE  OF OCCURRENCE\"), replace them\n",
    "df.columns = df.columns.str.replace('  ', ' ', regex=False)"
   ]
  },
  {
   "cell_type": "markdown",
   "id": "513f1a6f-98f5-4fe7-aed2-92c5ea24eda1",
   "metadata": {},
   "source": [
    "Drop na values in location coordinates (total 66 rows): "
   ]
  },
  {
   "cell_type": "code",
   "execution_count": 80,
   "id": "5aea0e4d-d17e-4d79-83ec-53de9da01e4d",
   "metadata": {},
   "outputs": [],
   "source": [
    "# Remove rows where any of the specified columns have missing data\n",
    "df = df.dropna(subset=['X COORDINATE', 'Y COORDINATE', 'LATITUDE', 'LONGITUDE', 'LOCATION'])"
   ]
  },
  {
   "cell_type": "markdown",
   "id": "7212f568-f288-4698-a2db-c10a098172dc",
   "metadata": {},
   "source": [
    "Feature Engineer the following features: \n",
    "1. Time of Day (Early Morning, etc.), per 4h increment\n",
    "2. Weekend? (i.e. Friday 5pm onwards to Sunday 11:59pm)\n",
    "3. Month"
   ]
  },
  {
   "cell_type": "code",
   "execution_count": 81,
   "id": "4ecb150f-14de-401c-a2bc-b353f8aca9e8",
   "metadata": {
    "jp-MarkdownHeadingCollapsed": true
   },
   "outputs": [],
   "source": [
    "# Convert 'DATE OF OCCURRENCE' to datetime format\n",
    "df['DATE OF OCCURRENCE'] = pd.to_datetime(df['DATE OF OCCURRENCE'], errors='coerce')\n",
    "\n",
    "# Create a function to categorize time into buckets\n",
    "def categorize_time(hour):\n",
    "    if 0 <= hour < 6:\n",
    "        return \"Late Evening\"\n",
    "    elif 6 <= hour < 9:\n",
    "        return \"Early Morning\"\n",
    "    elif 9 <= hour < 12:\n",
    "        return \"Late Morning\"\n",
    "    elif 12 <= hour < 15:\n",
    "        return \"Early Noon\"\n",
    "    elif 15 <= hour < 18:\n",
    "        return \"Late Noon\"\n",
    "    else:\n",
    "        return \"Early Evening\"\n",
    "\n",
    "# Apply the time categorization to create 'TIME OF DAY' column\n",
    "df['TIME OF DAY'] = df['DATE OF OCCURRENCE'].dt.hour.map(categorize_time)"
   ]
  },
  {
   "cell_type": "code",
   "execution_count": 82,
   "id": "386ccfaf-1e61-4cc6-8a47-635260532770",
   "metadata": {},
   "outputs": [],
   "source": [
    "# Extract the month from 'DATE  OF OCCURRENCE' and create a new column 'MONTH'\n",
    "df['MONTH'] = df['DATE OF OCCURRENCE'].dt.month_name()"
   ]
  },
  {
   "cell_type": "code",
   "execution_count": 83,
   "id": "eb26ea73-2b64-42f6-8d6e-18dad1f053b5",
   "metadata": {},
   "outputs": [],
   "source": [
    "df['WEEKDAY'] = df['DATE OF OCCURRENCE'].dt.strftime('%A')"
   ]
  },
  {
   "cell_type": "code",
   "execution_count": 84,
   "id": "11115e28-9b65-4650-b239-d3b67037e17e",
   "metadata": {},
   "outputs": [],
   "source": [
    "df['WEEKDAY NUM'] = df['DATE OF OCCURRENCE'].dt.weekday"
   ]
  },
  {
   "cell_type": "code",
   "execution_count": 85,
   "id": "3e016498-bd54-47c3-b71e-f38e2fc39657",
   "metadata": {},
   "outputs": [],
   "source": [
    "df['WEEKEND'] = np.where(df['WEEKDAY NUM'] <= 4, 'NO','YES')"
   ]
  },
  {
   "cell_type": "code",
   "execution_count": 86,
   "id": "fcd212da-27f0-488f-ac5f-a74232496ae3",
   "metadata": {},
   "outputs": [],
   "source": [
    "df.drop(['WEEKEND'],axis=1,inplace = True)"
   ]
  },
  {
   "cell_type": "code",
   "execution_count": 87,
   "id": "8013da34-c1dd-4899-8b96-e78cdd173f74",
   "metadata": {},
   "outputs": [],
   "source": [
    "# Extract day of week and hour\n",
    "df['hour'] = df['DATE OF OCCURRENCE'].dt.hour\n",
    "# Use conditions to determine 'Weekend'\n",
    "df['WEEKEND'] = (\n",
    "    (df['WEEKDAY NUM'] == 4) & (df['hour'] >= 17) |  # Friday after 5 PM\n",
    "    (df['WEEKDAY NUM'].isin([5, 6]))                 # Saturday or Sunday\n",
    ").map({True: '1', False: '0'})\n",
    "# Drop intermediate columns if desired\n",
    "df.drop(['hour'], axis=1, inplace=True)"
   ]
  },
  {
   "cell_type": "markdown",
   "id": "cdad723d-08b9-474f-a565-a7cfe2e532dc",
   "metadata": {},
   "source": [
    "#### Convert Month and Time of Day columns to sine/cosine\n",
    "\n",
    "    - Ordinal Encoding: Works well if months have a natural order relevant to the problem (e.g., sales data trends over a year).\n",
    "    - One-Hot Encoding: Suitable for models like logistic regression that cannot infer order from numerical values.\n",
    "    - Cyclical Encoding: Best when the cyclical nature of months is important (e.g., temperature data over a year)."
   ]
  },
  {
   "cell_type": "code",
   "execution_count": 88,
   "id": "3830e9ab-ec21-4e77-b6e5-ac0edcb5db5d",
   "metadata": {},
   "outputs": [],
   "source": [
    "# Create a mapping for months to numbers (1-12)\n",
    "month_order = {\n",
    "    'January': 1, 'February': 2, 'March': 3, 'April': 4,\n",
    "    'May': 5, 'June': 6, 'July': 7, 'August': 8,\n",
    "    'September': 9, 'October': 10, 'November': 11, 'December': 12\n",
    "}"
   ]
  },
  {
   "cell_type": "code",
   "execution_count": 89,
   "id": "b8d19f54-bdf0-4cbb-93e7-e480efad9d03",
   "metadata": {},
   "outputs": [],
   "source": [
    "df['MONTH_ENCODED'] = df['MONTH'].map(month_order)"
   ]
  },
  {
   "cell_type": "code",
   "execution_count": 90,
   "id": "43d3847b-a25e-4122-a23c-7f855ac73f62",
   "metadata": {},
   "outputs": [],
   "source": [
    "# Apply sine and cosine transformations\n",
    "df['MONTH_SIN'] = np.sin(2 * np.pi * df['MONTH_ENCODED'] / 12)\n",
    "df['MONTH_COS'] = np.cos(2 * np.pi * df['MONTH_ENCODED'] / 12)"
   ]
  },
  {
   "cell_type": "code",
   "execution_count": 91,
   "id": "97aef2f3-faf3-4deb-8001-70fb6c8e1e08",
   "metadata": {},
   "outputs": [],
   "source": [
    "# Define an ordinal mapping for time_of_day\n",
    "time_order = {\n",
    "    'Early Morning': 1,\n",
    "    'Late Morning': 2,\n",
    "    'Early Noon': 3,\n",
    "    'Late Noon': 4,\n",
    "    'Early Evening': 5,\n",
    "    'Late Evening': 6\n",
    "}\n",
    "# Apply the mapping\n",
    "df['TIME ENCODED'] = df['TIME OF DAY'].map(time_order)"
   ]
  },
  {
   "cell_type": "code",
   "execution_count": null,
   "id": "ff2ae77f-0ba7-4b83-a5d6-273b1194ceac",
   "metadata": {},
   "outputs": [],
   "source": []
  },
  {
   "cell_type": "markdown",
   "id": "f75583b6",
   "metadata": {},
   "source": [
    "### Spliting THEFT into two group of data 'THEFT UNDER $500' and 'THEFT OVER $500'"
   ]
  },
  {
   "cell_type": "code",
   "execution_count": 92,
   "id": "b2aad97d-1430-445a-aa91-8199fffa7d5b",
   "metadata": {},
   "outputs": [],
   "source": [
    "# Filter for 'PRIMARY DESCRIPTION' = 'THEFT'\n",
    "theft_data = df[df['PRIMARY DESCRIPTION'] == 'THEFT']\n",
    "\n",
    "# Group the data by 'PRIMARY DESCRIPTION' and 'SECONDARY DESCRIPTION', then count occurrences\n",
    "theft_grouped_data = theft_data.groupby(['PRIMARY DESCRIPTION', 'SECONDARY DESCRIPTION']).size().reset_index(name='Count')\n",
    "\n",
    "# Assign the desired names dynamically\n",
    "group_1_description = 'THEFT UNDER $500'\n",
    "group_2_description = 'THEFT OVER $500'\n",
    "\n",
    "#   iloc    PRIMARY DESCRIPTION                 SECONDARY DESCRIPTION   Count\n",
    "#   0               THEFT                          $500 AND UNDER       19167\n",
    "#   1               THEFT                           ATTEMPT THEFT         386\n",
    "#   2               THEFT                DELIVERY CONTAINER THEFT          32\n",
    "#   3               THEFT                           FROM BUILDING        5422\n",
    "#   4               THEFT    FROM COIN-OPERATED MACHINE OR DEVICE          13\n",
    "#   5               THEFT                               OVER $500       18248\n",
    "#   6               THEFT                          POCKET-PICKING        1371\n",
    "#   7               THEFT                         PURSE-SNATCHING         275\n",
    "#   8               THEFT                            RETAIL THEFT       13432\n",
    "#   9               THEFT                THEFT FROM MOTOR VEHICLE        1748\n",
    "\n",
    "# Split the data into Group 1 and Group 2 based on manual grouping (row indices)\n",
    "group_1 = theft_grouped_data.iloc[[0, 1, 2, 3, 4, 6, 7, 9]]  # Rows for Group 1\n",
    "group_2 = theft_grouped_data.iloc[[5, 8]]  # Rows for Group 2\n",
    "\n",
    "# Define a mapping dictionary based on group_1 and group_2\n",
    "mapping = {}\n",
    "\n",
    "# Add entries to the mapping for group_1\n",
    "for secondary_desc in group_1['SECONDARY DESCRIPTION']:\n",
    "    mapping[secondary_desc] = group_1_description\n",
    "\n",
    "# Add entries to the mapping for group_2\n",
    "for secondary_desc in group_2['SECONDARY DESCRIPTION']:\n",
    "    mapping[secondary_desc] = group_2_description\n",
    "\n",
    "# Update the 'PRIMARY DESCRIPTION' column in the original DataFrame\n",
    "df.loc[df['PRIMARY DESCRIPTION'] == 'THEFT', 'PRIMARY DESCRIPTION'] = df.loc[df['PRIMARY DESCRIPTION'] == 'THEFT', 'SECONDARY DESCRIPTION'].map(mapping)\n"
   ]
  },
  {
   "cell_type": "code",
   "execution_count": null,
   "id": "d6309c8e-b17a-48a5-bd4a-ab66a39767c1",
   "metadata": {},
   "outputs": [],
   "source": []
  },
  {
   "cell_type": "markdown",
   "id": "cf11eda6-f8e6-4a41-94c1-cc3e6e84c375",
   "metadata": {},
   "source": [
    "Consolidate Offenses: "
   ]
  },
  {
   "cell_type": "code",
   "execution_count": 93,
   "id": "a6a39569-d573-472c-8644-711d3df069fc",
   "metadata": {},
   "outputs": [
    {
     "data": {
      "text/plain": [
       "OFFENSES\n",
       "BATTERY                              45766\n",
       "THEFT OVER $500                      31671\n",
       "CRIMINAL DAMAGE                      28638\n",
       "THEFT UNDER $500                     28400\n",
       "ASSAULT                              23508\n",
       "MOTOR VEHICLE THEFT                  22331\n",
       "OTHER OFFENSE                        16773\n",
       "DECEPTIVE PRACTICE                   15059\n",
       "ROBBERY                               9442\n",
       "BURGLARY                              8178\n",
       "WEAPONS VIOLATION                     7914\n",
       "NARCOTICS                             5821\n",
       "CRIMINAL TRESPASS                     4884\n",
       "OFFENSE INVOLVING CHILDREN            1637\n",
       "CRIMINAL SEXUAL ASSAULT               1521\n",
       "SEX OFFENSE                           1218\n",
       "PUBLIC PEACE VIOLATION                 976\n",
       "INTERFERENCE WITH PUBLIC OFFICER       682\n",
       "HOMICIDE                               575\n",
       "STALKING                               497\n",
       "ARSON                                  492\n",
       "PROSTITUTION                           280\n",
       "CONCEALED CARRY LICENSE VIOLATION      201\n",
       "LIQUOR LAW VIOLATION                   192\n",
       "INTIMIDATION                           156\n",
       "KIDNAPPING                             100\n",
       "OBSCENITY                               56\n",
       "GAMBLING                                21\n",
       "PUBLIC INDECENCY                        11\n",
       "OTHER NARCOTIC VIOLATION                 5\n",
       "HUMAN TRAFFICKING                        3\n",
       "NON-CRIMINAL                             3\n",
       "Name: count, dtype: int64"
      ]
     },
     "execution_count": 93,
     "metadata": {},
     "output_type": "execute_result"
    }
   ],
   "source": [
    "# Create a new column 'Offenses' based on 'PRIMARY DESCRIPTION'\n",
    "df['OFFENSES'] = df['PRIMARY DESCRIPTION']\n",
    "df['OFFENSES'].value_counts()"
   ]
  },
  {
   "cell_type": "code",
   "execution_count": 94,
   "id": "7a924031-d57e-46a8-93bc-1cc66744e09b",
   "metadata": {},
   "outputs": [],
   "source": [
    "# Get the value counts for 'Offenses' and identify offenses with fewer than 500 occurrences\n",
    "value_counts = df['OFFENSES'].value_counts()\n",
    "# Replace offenses that occur fewer than 500 times with \"OTHER OFFENSE\"\n",
    "to_remove = value_counts[value_counts<10000].index"
   ]
  },
  {
   "cell_type": "code",
   "execution_count": 95,
   "id": "43ee6351-e84e-45f8-a25c-cb2c38b5d8ac",
   "metadata": {},
   "outputs": [],
   "source": [
    "df = df.loc[df['OFFENSES'].isin(value_counts[value_counts >= 10000].index)]"
   ]
  },
  {
   "cell_type": "code",
   "execution_count": 96,
   "id": "a6dc60ec-c004-4935-a943-3718935a4ea0",
   "metadata": {},
   "outputs": [
    {
     "data": {
      "text/plain": [
       "OFFENSES\n",
       "BATTERY                45766\n",
       "THEFT OVER $500        31671\n",
       "CRIMINAL DAMAGE        28638\n",
       "THEFT UNDER $500       28400\n",
       "ASSAULT                23508\n",
       "MOTOR VEHICLE THEFT    22331\n",
       "OTHER OFFENSE          16773\n",
       "DECEPTIVE PRACTICE     15059\n",
       "Name: count, dtype: int64"
      ]
     },
     "execution_count": 96,
     "metadata": {},
     "output_type": "execute_result"
    }
   ],
   "source": [
    "df['OFFENSES'].value_counts()"
   ]
  },
  {
   "cell_type": "code",
   "execution_count": 97,
   "id": "e4fc0285-f536-4f9c-8b10-9329dd9910d9",
   "metadata": {},
   "outputs": [],
   "source": [
    "# Get the value counts for 'Offenses' and identify offenses with fewer than 500 occurrences\n",
    "value_counts = df['OFFENSES'].value_counts()\n",
    "# Replace offenses that occur fewer than 500 times with \"OTHER OFFENSE\"\n",
    "to_replace = value_counts[value_counts<500].index\n",
    "df['OFFENSES'] = df['OFFENSES'].replace(to_replace, \"OTHER OFFENSE\")"
   ]
  },
  {
   "cell_type": "code",
   "execution_count": 98,
   "id": "1846d0e9-d5e6-40ae-a119-8512a928955f",
   "metadata": {},
   "outputs": [],
   "source": [
    "# Consolidate specific offenses into other categories\n",
    "df['OFFENSES'] = df['OFFENSES'].replace({\n",
    "    \"PUBLIC PEACE VIOLATION\": \"PUBLIC ORDER\",  # Consolidate Public Peace Violation into new category: 'PUBLIC ORDER'\n",
    "    \"INTERFERENCE WITH PUBLIC OFFICER\": \"PUBLIC ORDER\",  # Consolidate Interference with Public Officer into new category: 'PUBLIC ORDER'\n",
    "    \"CRIMINAL SEXUAL ASSAULT\": \"SEX OFFENSE\"  # Conslidate Criminal Sexual Assault into: 'SEX OFFENSE'\n",
    "})"
   ]
  },
  {
   "cell_type": "code",
   "execution_count": 99,
   "id": "a72e468d-0b79-407b-8043-3fcede3cf415",
   "metadata": {},
   "outputs": [
    {
     "data": {
      "text/html": [
       "<div>\n",
       "<style scoped>\n",
       "    .dataframe tbody tr th:only-of-type {\n",
       "        vertical-align: middle;\n",
       "    }\n",
       "\n",
       "    .dataframe tbody tr th {\n",
       "        vertical-align: top;\n",
       "    }\n",
       "\n",
       "    .dataframe thead th {\n",
       "        text-align: right;\n",
       "    }\n",
       "</style>\n",
       "<table border=\"1\" class=\"dataframe\">\n",
       "  <thead>\n",
       "    <tr style=\"text-align: right;\">\n",
       "      <th></th>\n",
       "      <th>WARD</th>\n",
       "      <th>TIME ENCODED</th>\n",
       "      <th>MONTH_SIN</th>\n",
       "      <th>MONTH_COS</th>\n",
       "      <th>WEEKEND</th>\n",
       "      <th>DATE OF OCCURRENCE</th>\n",
       "      <th>OFFENSES</th>\n",
       "      <th>LATITUDE</th>\n",
       "      <th>LONGITUDE</th>\n",
       "    </tr>\n",
       "  </thead>\n",
       "  <tbody>\n",
       "    <tr>\n",
       "      <th>0</th>\n",
       "      <td>35</td>\n",
       "      <td>6</td>\n",
       "      <td>5.000000e-01</td>\n",
       "      <td>8.660254e-01</td>\n",
       "      <td>0</td>\n",
       "      <td>2024-01-16 01:00:00</td>\n",
       "      <td>THEFT OVER $500</td>\n",
       "      <td>41.931844</td>\n",
       "      <td>-87.722951</td>\n",
       "    </tr>\n",
       "    <tr>\n",
       "      <th>1</th>\n",
       "      <td>42</td>\n",
       "      <td>4</td>\n",
       "      <td>-2.449294e-16</td>\n",
       "      <td>1.000000e+00</td>\n",
       "      <td>1</td>\n",
       "      <td>2023-12-31 16:30:00</td>\n",
       "      <td>BATTERY</td>\n",
       "      <td>41.888994</td>\n",
       "      <td>-87.626935</td>\n",
       "    </tr>\n",
       "    <tr>\n",
       "      <th>5</th>\n",
       "      <td>16</td>\n",
       "      <td>3</td>\n",
       "      <td>5.000000e-01</td>\n",
       "      <td>8.660254e-01</td>\n",
       "      <td>1</td>\n",
       "      <td>2024-01-06 12:50:00</td>\n",
       "      <td>DECEPTIVE PRACTICE</td>\n",
       "      <td>41.793299</td>\n",
       "      <td>-87.664566</td>\n",
       "    </tr>\n",
       "    <tr>\n",
       "      <th>6</th>\n",
       "      <td>1</td>\n",
       "      <td>3</td>\n",
       "      <td>8.660254e-01</td>\n",
       "      <td>-5.000000e-01</td>\n",
       "      <td>1</td>\n",
       "      <td>2024-04-07 13:56:00</td>\n",
       "      <td>THEFT OVER $500</td>\n",
       "      <td>41.906797</td>\n",
       "      <td>-87.671862</td>\n",
       "    </tr>\n",
       "    <tr>\n",
       "      <th>8</th>\n",
       "      <td>49</td>\n",
       "      <td>4</td>\n",
       "      <td>1.000000e+00</td>\n",
       "      <td>6.123234e-17</td>\n",
       "      <td>0</td>\n",
       "      <td>2024-03-22 15:30:00</td>\n",
       "      <td>THEFT UNDER $500</td>\n",
       "      <td>42.007825</td>\n",
       "      <td>-87.670842</td>\n",
       "    </tr>\n",
       "    <tr>\n",
       "      <th>...</th>\n",
       "      <td>...</td>\n",
       "      <td>...</td>\n",
       "      <td>...</td>\n",
       "      <td>...</td>\n",
       "      <td>...</td>\n",
       "      <td>...</td>\n",
       "      <td>...</td>\n",
       "      <td>...</td>\n",
       "      <td>...</td>\n",
       "    </tr>\n",
       "    <tr>\n",
       "      <th>257072</th>\n",
       "      <td>27</td>\n",
       "      <td>1</td>\n",
       "      <td>-5.000000e-01</td>\n",
       "      <td>8.660254e-01</td>\n",
       "      <td>1</td>\n",
       "      <td>2024-11-23 08:25:00</td>\n",
       "      <td>OTHER OFFENSE</td>\n",
       "      <td>41.891743</td>\n",
       "      <td>-87.721438</td>\n",
       "    </tr>\n",
       "    <tr>\n",
       "      <th>257073</th>\n",
       "      <td>44</td>\n",
       "      <td>3</td>\n",
       "      <td>-5.000000e-01</td>\n",
       "      <td>8.660254e-01</td>\n",
       "      <td>1</td>\n",
       "      <td>2024-11-23 14:45:00</td>\n",
       "      <td>THEFT UNDER $500</td>\n",
       "      <td>41.939552</td>\n",
       "      <td>-87.650352</td>\n",
       "    </tr>\n",
       "    <tr>\n",
       "      <th>257074</th>\n",
       "      <td>21</td>\n",
       "      <td>2</td>\n",
       "      <td>-5.000000e-01</td>\n",
       "      <td>8.660254e-01</td>\n",
       "      <td>1</td>\n",
       "      <td>2024-11-23 11:04:00</td>\n",
       "      <td>OTHER OFFENSE</td>\n",
       "      <td>41.706442</td>\n",
       "      <td>-87.642820</td>\n",
       "    </tr>\n",
       "    <tr>\n",
       "      <th>257075</th>\n",
       "      <td>27</td>\n",
       "      <td>6</td>\n",
       "      <td>-5.000000e-01</td>\n",
       "      <td>8.660254e-01</td>\n",
       "      <td>1</td>\n",
       "      <td>2024-11-23 00:54:00</td>\n",
       "      <td>BATTERY</td>\n",
       "      <td>41.879214</td>\n",
       "      <td>-87.699988</td>\n",
       "    </tr>\n",
       "    <tr>\n",
       "      <th>257076</th>\n",
       "      <td>28</td>\n",
       "      <td>2</td>\n",
       "      <td>-5.000000e-01</td>\n",
       "      <td>8.660254e-01</td>\n",
       "      <td>1</td>\n",
       "      <td>2024-11-03 09:00:00</td>\n",
       "      <td>OTHER OFFENSE</td>\n",
       "      <td>41.882003</td>\n",
       "      <td>-87.729099</td>\n",
       "    </tr>\n",
       "  </tbody>\n",
       "</table>\n",
       "<p>212146 rows × 9 columns</p>\n",
       "</div>"
      ],
      "text/plain": [
       "        WARD  TIME ENCODED     MONTH_SIN     MONTH_COS WEEKEND  \\\n",
       "0         35             6  5.000000e-01  8.660254e-01       0   \n",
       "1         42             4 -2.449294e-16  1.000000e+00       1   \n",
       "5         16             3  5.000000e-01  8.660254e-01       1   \n",
       "6          1             3  8.660254e-01 -5.000000e-01       1   \n",
       "8         49             4  1.000000e+00  6.123234e-17       0   \n",
       "...      ...           ...           ...           ...     ...   \n",
       "257072    27             1 -5.000000e-01  8.660254e-01       1   \n",
       "257073    44             3 -5.000000e-01  8.660254e-01       1   \n",
       "257074    21             2 -5.000000e-01  8.660254e-01       1   \n",
       "257075    27             6 -5.000000e-01  8.660254e-01       1   \n",
       "257076    28             2 -5.000000e-01  8.660254e-01       1   \n",
       "\n",
       "        DATE OF OCCURRENCE            OFFENSES   LATITUDE  LONGITUDE  \n",
       "0      2024-01-16 01:00:00     THEFT OVER $500  41.931844 -87.722951  \n",
       "1      2023-12-31 16:30:00             BATTERY  41.888994 -87.626935  \n",
       "5      2024-01-06 12:50:00  DECEPTIVE PRACTICE  41.793299 -87.664566  \n",
       "6      2024-04-07 13:56:00     THEFT OVER $500  41.906797 -87.671862  \n",
       "8      2024-03-22 15:30:00    THEFT UNDER $500  42.007825 -87.670842  \n",
       "...                    ...                 ...        ...        ...  \n",
       "257072 2024-11-23 08:25:00       OTHER OFFENSE  41.891743 -87.721438  \n",
       "257073 2024-11-23 14:45:00    THEFT UNDER $500  41.939552 -87.650352  \n",
       "257074 2024-11-23 11:04:00       OTHER OFFENSE  41.706442 -87.642820  \n",
       "257075 2024-11-23 00:54:00             BATTERY  41.879214 -87.699988  \n",
       "257076 2024-11-03 09:00:00       OTHER OFFENSE  41.882003 -87.729099  \n",
       "\n",
       "[212146 rows x 9 columns]"
      ]
     },
     "execution_count": 99,
     "metadata": {},
     "output_type": "execute_result"
    }
   ],
   "source": [
    "processed_df = df[['WARD', 'TIME ENCODED', 'MONTH_SIN', 'MONTH_COS', 'WEEKEND', 'DATE OF OCCURRENCE', 'OFFENSES', 'LATITUDE', 'LONGITUDE']]\n",
    "processed_df"
   ]
  },
  {
   "cell_type": "code",
   "execution_count": 100,
   "id": "72e37465-d7d0-49b2-b1f2-5f5fed48064b",
   "metadata": {},
   "outputs": [],
   "source": [
    "# processed_df.to_csv('../raw_data/preprocessed_chicago.csv', index=False)"
   ]
  },
  {
   "cell_type": "code",
   "execution_count": 2,
   "id": "df44220a-f4b6-447d-b6c7-8d51640200ac",
   "metadata": {},
   "outputs": [
    {
     "name": "stdout",
     "output_type": "stream",
     "text": [
      "Categorical columns before preprocessing: []\n",
      "Numerical columns before preprocessing: ['WARD', 'MONTH_SIN', 'MONTH_COS', 'WEEKEND', 'LATITUDE', 'LONGITUDE', 'TIME_ENCODED_sin', 'TIME_ENCODED_cos']\n",
      "Model: HistGradientBoostingClassifier\n",
      "Accuracy: 0.2777\n",
      "Classification Report:\n",
      "{'ASSAULT': {'precision': 0.18518518518518517, 'recall': 0.004254112308564946, 'f1-score': 0.008317161075686166, 'support': 7052.0}, 'BATTERY': {'precision': 0.2585657661162853, 'recall': 0.774435542607429, 'f1-score': 0.38769073706087176, 'support': 13730.0}, 'CRIMINAL DAMAGE': {'precision': 0.23409018228333867, 'recall': 0.08519553072625698, 'f1-score': 0.12492533492618824, 'support': 8592.0}, 'DECEPTIVE PRACTICE': {'precision': 0.2826780021253985, 'recall': 0.05887560867640549, 'f1-score': 0.09745374610734567, 'support': 4518.0}, 'MOTOR VEHICLE THEFT': {'precision': 0.24233983286908078, 'recall': 0.05194805194805195, 'f1-score': 0.08555623847572219, 'support': 6699.0}, 'OTHER OFFENSE': {'precision': 0.2635135135135135, 'recall': 0.007750397456279809, 'f1-score': 0.015057915057915058, 'support': 5032.0}, 'THEFT OVER $500': {'precision': 0.35930871956009425, 'recall': 0.4814230081044101, 'f1-score': 0.41149745850389097, 'support': 9501.0}, 'THEFT UNDER $500': {'precision': 0.2652753331657028, 'recall': 0.1238262910798122, 'f1-score': 0.16884052172521405, 'support': 8520.0}, 'accuracy': 0.27774809879957263, 'macro avg': {'precision': 0.2613695668523249, 'recall': 0.1984635678634013, 'f1-score': 0.16241738911660425, 'support': 63644.0}, 'weighted avg': {'precision': 0.2634631462193724, 'recall': 0.27774809879957263, 'f1-score': 0.20257011204221748, 'support': 63644.0}}\n"
     ]
    }
   ],
   "source": [
    "import pandas as pd\n",
    "import numpy as np\n",
    "from sklearn.model_selection import train_test_split\n",
    "from sklearn.preprocessing import OneHotEncoder, StandardScaler\n",
    "from sklearn.compose import ColumnTransformer\n",
    "from sklearn.impute import SimpleImputer\n",
    "from sklearn.ensemble import HistGradientBoostingClassifier\n",
    "from sklearn.metrics import classification_report, accuracy_score\n",
    "\n",
    "# Load the dataset\n",
    "data = pd.read_csv(\"../raw_data/preprocessed_chicago.csv\")\n",
    "\n",
    "# Step 1: Define target and features\n",
    "target = 'OFFENSES'\n",
    "X = data.drop(columns=[target])  # Drop target column\n",
    "y = data[target]  # Extract target column\n",
    "\n",
    "# Step 2: Remove 'DATE OF OCCURRENCE'\n",
    "if 'DATE OF OCCURRENCE' in X.columns:\n",
    "    X = X.drop(columns=['DATE OF OCCURRENCE'])\n",
    "\n",
    "# Step 3: Sin-Cos Transformation for \"TIME ENCODED\"\n",
    "if 'TIME ENCODED' in X.columns:\n",
    "    time_col = X['TIME ENCODED']\n",
    "    X['TIME_ENCODED_sin'] = np.sin(2 * np.pi * time_col / 6)  # Cyclical encoding\n",
    "    X['TIME_ENCODED_cos'] = np.cos(2 * np.pi * time_col / 6)\n",
    "    X = X.drop(columns=['TIME ENCODED'])  # Drop the original TIME ENCODED column\n",
    "\n",
    "# Step 4: Handle Missing Values\n",
    "# Identify categorical and numerical columns\n",
    "categorical_cols = [col for col in X.columns if X[col].dtype == 'object' or X[col].dtype == 'category']\n",
    "numerical_cols = [col for col in X.columns if col not in categorical_cols]\n",
    "\n",
    "# Print columns before processing to validate\n",
    "print(\"Categorical columns before preprocessing:\", categorical_cols)\n",
    "print(\"Numerical columns before preprocessing:\", numerical_cols)\n",
    "\n",
    "# Create missing indicator columns for numerical features\n",
    "for col in numerical_cols:\n",
    "    if X[col].isnull().any():  # Add missing indicator only if there are missing values\n",
    "        X[f'is_{col}_missing'] = X[col].isnull().astype(int)\n",
    "\n",
    "# Impute missing values for categorical columns with the most frequent value\n",
    "# if categorical_cols:\n",
    "#     cat_imputer = SimpleImputer(strategy='most_frequent')\n",
    "#     X[categorical_cols] = cat_imputer.fit_transform(X[categorical_cols])\n",
    "\n",
    "# Impute missing values for numerical columns with the median\n",
    "if numerical_cols:\n",
    "    num_imputer = SimpleImputer(strategy='median')\n",
    "    X[numerical_cols] = num_imputer.fit_transform(X[numerical_cols])\n",
    "\n",
    "# Step 5: Preprocessing pipeline for both numerical and categorical features\n",
    "transformers = []\n",
    "\n",
    "# Add transformations for categorical columns\n",
    "if categorical_cols:\n",
    "    transformers.append(('cat', OneHotEncoder(handle_unknown='ignore', sparse_output=False), categorical_cols))\n",
    "\n",
    "# Add transformations for numerical columns\n",
    "if numerical_cols:\n",
    "    transformers.append(('num', StandardScaler(), numerical_cols))\n",
    "\n",
    "# Ensure at least one transformer exists\n",
    "if not transformers:\n",
    "    raise ValueError(\"No valid columns found for transformation.\")\n",
    "\n",
    "# ColumnTransformer to apply preprocessing steps\n",
    "preprocessor = ColumnTransformer(\n",
    "    transformers=transformers,\n",
    "    remainder='passthrough'  # Keeps other columns as is, in case there are other features\n",
    ")\n",
    "\n",
    "# Apply preprocessing pipeline to the features\n",
    "X_processed = preprocessor.fit_transform(X)\n",
    "\n",
    "# Step 6: Train-Test Split (70-30) with Stratification\n",
    "X_train, X_test, y_train, y_test = train_test_split(X_processed, y, test_size=0.3, random_state=42, stratify=y)\n",
    "\n",
    "# Step 7: Model definition (HistGradientBoostingClassifier)\n",
    "model = HistGradientBoostingClassifier(max_iter=50, random_state=42)  # Reduced iterations for faster training\n",
    "\n",
    "# Train the model\n",
    "model.fit(X_train, y_train)\n",
    "\n",
    "# Predict on the test set\n",
    "y_pred = model.predict(X_test)\n",
    "\n",
    "# Evaluate model performance\n",
    "accuracy = accuracy_score(y_test, y_pred)\n",
    "report = classification_report(y_test, y_pred, output_dict=True, zero_division=1)\n",
    "\n",
    "# Display the results\n",
    "print(\"Model: HistGradientBoostingClassifier\")\n",
    "print(f\"Accuracy: {accuracy:.4f}\")\n",
    "print(f\"Classification Report:\\n{report}\")"
   ]
  }
 ],
 "metadata": {
  "kernelspec": {
   "display_name": "risky_predictive_policing",
   "language": "python",
   "name": "python3"
  },
  "language_info": {
   "codemirror_mode": {
    "name": "ipython",
    "version": 3
   },
   "file_extension": ".py",
   "mimetype": "text/x-python",
   "name": "python",
   "nbconvert_exporter": "python",
   "pygments_lexer": "ipython3",
   "version": "3.10.6"
  }
 },
 "nbformat": 4,
 "nbformat_minor": 5
}
