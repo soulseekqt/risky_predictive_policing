{
 "cells": [
  {
   "cell_type": "code",
   "execution_count": 10,
   "id": "3159e149-db1e-4356-a06d-347abc984f65",
   "metadata": {},
   "outputs": [
    {
     "name": "stdout",
     "output_type": "stream",
     "text": [
      "LabelEncoder and Random Forest model successfully loaded!\n"
     ]
    }
   ],
   "source": [
    "import pickle\n",
    "\n",
    "# Load the LabelEncoder\n",
    "with open(\"label_encoder.pkl\", \"rb\") as file:\n",
    "    label_encoder_ward = pickle.load(file)\n",
    "\n",
    "# Load the Random Forest model\n",
    "with open(\"model.pkl\", \"rb\") as file:\n",
    "    classifier = pickle.load(file)\n",
    "\n",
    "print(\"LabelEncoder and Random Forest model successfully loaded!\")\n"
   ]
  },
  {
   "cell_type": "code",
   "execution_count": 14,
   "id": "848b13b1-5bf3-4606-b901-80b901d4d5fc",
   "metadata": {},
   "outputs": [
    {
     "name": "stdout",
     "output_type": "stream",
     "text": [
      "Top 5 Predicted Crimes:\n",
      "{'BATTERY': 0.25625, 'CRIMINAL DAMAGE': 0.21958333333333332, 'ASSAULT': 0.18125, 'OTHER OFFENSE': 0.10124999999999998, 'MOTOR VEHICLE THEFT': 0.09583333333333334}\n"
     ]
    }
   ],
   "source": [
    "import pandas as pd\n",
    "import numpy as np\n",
    "\n",
    "# Sample input data\n",
    "sample_input_data = {\n",
    "    'WARD': [4],\n",
    "    'DATE OF OCCURRENCE': ['1/16/2025 1:00'],\n",
    "    'LATITUDE': [41.79329893],\n",
    "    'LONGITUDE': [-87.66456619]\n",
    "}\n",
    "\n",
    "# Convert input data to DataFrame\n",
    "input_df = pd.DataFrame(sample_input_data)\n",
    "\n",
    "# Preprocess the input data (without encoding 'WARD')\n",
    "def preprocess_input(input_data):\n",
    "    # Ensure 'DATE OF OCCURRENCE' is in datetime format\n",
    "    input_data['DATE'] = pd.to_datetime(input_data['DATE OF OCCURRENCE'])\n",
    "    input_data['HOUR'] = input_data['DATE'].dt.floor('h')\n",
    "\n",
    "    # Generate cyclical features (sine and cosine of time and month)\n",
    "    input_data['TIME_SIN'] = np.sin(2 * np.pi * input_data['HOUR'].dt.hour / 24)\n",
    "    input_data['TIME_COS'] = np.cos(2 * np.pi * input_data['HOUR'].dt.hour / 24)\n",
    "    input_data['MONTH_SIN'] = np.sin(2 * np.pi * input_data['HOUR'].dt.month / 12)\n",
    "    input_data['MONTH_COS'] = np.cos(2 * np.pi * input_data['HOUR'].dt.month / 12)\n",
    "\n",
    "    # Don't encode 'WARD', just keep it as it is\n",
    "    # input_data['WARD_ENCODED'] = label_encoder_ward.transform(input_data['WARD'])\n",
    "\n",
    "    # Add 'DAY_OF_WEEK' feature\n",
    "    input_data['DAY_OF_WEEK'] = input_data['HOUR'].dt.dayofweek\n",
    "\n",
    "    # Add placeholder features (you can replace them with actual calculations)\n",
    "    input_data['CRIME_COUNT_LAG1'] = 0\n",
    "    input_data['CRIME_COUNT_LAG24'] = 0\n",
    "    input_data['ROLLING_7DAY'] = 0\n",
    "    input_data['DISTANCE_TO_POLICE'] = 0\n",
    "\n",
    "    return input_data\n",
    "\n",
    "# Preprocess the data\n",
    "preprocessed_input = preprocess_input(input_df)\n",
    "\n",
    "# Extract the features for prediction (including 'WARD')\n",
    "X_input = preprocessed_input[['TIME_SIN', 'TIME_COS', 'CRIME_COUNT_LAG1', 'CRIME_COUNT_LAG24', 'ROLLING_7DAY',\n",
    "                              'DISTANCE_TO_POLICE', 'WARD', 'DAY_OF_WEEK', 'MONTH_SIN', 'MONTH_COS']]\n",
    "\n",
    "# Generate predictions\n",
    "probas = classifier.predict_proba(X_input)\n",
    "\n",
    "# Get the top 5 predictions\n",
    "top_5_idx = np.argsort(probas[0])[-5:][::-1]  # Sort probabilities in descending order\n",
    "top_5_classes = classifier.classes_[top_5_idx]\n",
    "top_5_probabilities = probas[0][top_5_idx]\n",
    "\n",
    "# Display results\n",
    "result = {\n",
    "    'Top 5 Crimes': {top_5_classes[i]: top_5_probabilities[i] for i in range(5)}\n",
    "}\n",
    "\n",
    "# Map the predicted labels to offense names using the LabelEncoder\n",
    "top_5_crimes = {\n",
    "    label_encoder_ward.inverse_transform([top_5_classes[i]])[0]: top_5_probabilities[i] \n",
    "    for i in range(5)\n",
    "}\n",
    "\n",
    "print(\"Top 5 Predicted Crimes:\")\n",
    "print(top_5_crimes)"
   ]
  },
  {
   "cell_type": "code",
   "execution_count": null,
   "id": "71a35a80-636d-4a38-b753-6fd97e33bf3c",
   "metadata": {},
   "outputs": [],
   "source": []
  }
 ],
 "metadata": {
  "kernelspec": {
   "display_name": "Python 3 (ipykernel)",
   "language": "python",
   "name": "python3"
  },
  "language_info": {
   "codemirror_mode": {
    "name": "ipython",
    "version": 3
   },
   "file_extension": ".py",
   "mimetype": "text/x-python",
   "name": "python",
   "nbconvert_exporter": "python",
   "pygments_lexer": "ipython3",
   "version": "3.10.6"
  }
 },
 "nbformat": 4,
 "nbformat_minor": 5
}
